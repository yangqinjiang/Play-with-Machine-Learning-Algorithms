{
 "cells": [
  {
   "cell_type": "markdown",
   "metadata": {},
   "source": [
    "### 07 数据归一化处理"
   ]
  },
  {
   "cell_type": "code",
   "execution_count": 1,
   "metadata": {},
   "outputs": [],
   "source": [
    "import numpy as np\n",
    "import matplotlib.pyplot as plt\n"
   ]
  },
  {
   "cell_type": "markdown",
   "metadata": {},
   "source": [
    "### 最值归一化 Normalization"
   ]
  },
  {
   "cell_type": "markdown",
   "metadata": {},
   "source": [
    "#### 列表"
   ]
  },
  {
   "cell_type": "code",
   "execution_count": 2,
   "metadata": {},
   "outputs": [],
   "source": [
    "x = np.random.randint(0,100,100)"
   ]
  },
  {
   "cell_type": "code",
   "execution_count": 3,
   "metadata": {},
   "outputs": [
    {
     "data": {
      "text/plain": [
       "array([92, 68, 28,  2, 76,  0, 30, 13, 26, 24, 30,  2, 38, 63, 38, 67,  1,\n",
       "       89, 36, 25, 75, 99, 38, 92, 84, 20, 12, 63, 70, 54, 94, 99,  0, 62,\n",
       "       17, 55,  4, 86, 91, 23, 92, 19, 83, 50, 85, 78, 77, 88, 71, 75,  5,\n",
       "        6, 58, 87, 36, 21, 10,  0, 15, 75, 15, 72, 68, 29, 92, 46,  0, 21,\n",
       "       90,  0, 78, 55, 22, 17, 69, 62, 42,  0, 39, 15, 51, 80, 43, 83, 53,\n",
       "       63, 94,  8, 39, 78,  9, 75, 91, 65,  0, 10, 85, 70, 77, 55])"
      ]
     },
     "execution_count": 3,
     "metadata": {},
     "output_type": "execute_result"
    }
   ],
   "source": [
    "x"
   ]
  },
  {
   "cell_type": "code",
   "execution_count": 4,
   "metadata": {},
   "outputs": [
    {
     "data": {
      "text/plain": [
       "array([0.92929293, 0.68686869, 0.28282828, 0.02020202, 0.76767677,\n",
       "       0.        , 0.3030303 , 0.13131313, 0.26262626, 0.24242424,\n",
       "       0.3030303 , 0.02020202, 0.38383838, 0.63636364, 0.38383838,\n",
       "       0.67676768, 0.01010101, 0.8989899 , 0.36363636, 0.25252525,\n",
       "       0.75757576, 1.        , 0.38383838, 0.92929293, 0.84848485,\n",
       "       0.2020202 , 0.12121212, 0.63636364, 0.70707071, 0.54545455,\n",
       "       0.94949495, 1.        , 0.        , 0.62626263, 0.17171717,\n",
       "       0.55555556, 0.04040404, 0.86868687, 0.91919192, 0.23232323,\n",
       "       0.92929293, 0.19191919, 0.83838384, 0.50505051, 0.85858586,\n",
       "       0.78787879, 0.77777778, 0.88888889, 0.71717172, 0.75757576,\n",
       "       0.05050505, 0.06060606, 0.58585859, 0.87878788, 0.36363636,\n",
       "       0.21212121, 0.1010101 , 0.        , 0.15151515, 0.75757576,\n",
       "       0.15151515, 0.72727273, 0.68686869, 0.29292929, 0.92929293,\n",
       "       0.46464646, 0.        , 0.21212121, 0.90909091, 0.        ,\n",
       "       0.78787879, 0.55555556, 0.22222222, 0.17171717, 0.6969697 ,\n",
       "       0.62626263, 0.42424242, 0.        , 0.39393939, 0.15151515,\n",
       "       0.51515152, 0.80808081, 0.43434343, 0.83838384, 0.53535354,\n",
       "       0.63636364, 0.94949495, 0.08080808, 0.39393939, 0.78787879,\n",
       "       0.09090909, 0.75757576, 0.91919192, 0.65656566, 0.        ,\n",
       "       0.1010101 , 0.85858586, 0.70707071, 0.77777778, 0.55555556])"
      ]
     },
     "execution_count": 4,
     "metadata": {},
     "output_type": "execute_result"
    }
   ],
   "source": [
    "(x - np.min(x)) / (np.max(x) - np.min(x))  #最值归一化"
   ]
  },
  {
   "cell_type": "markdown",
   "metadata": {},
   "source": [
    "#### 二维数组(矩阵)"
   ]
  },
  {
   "cell_type": "code",
   "execution_count": 6,
   "metadata": {},
   "outputs": [],
   "source": [
    "X = np.random.randint(0,100,(50,2))\n",
    "#转换成float数据类型\n",
    "X = np.array(X,dtype=float)"
   ]
  },
  {
   "cell_type": "code",
   "execution_count": 7,
   "metadata": {},
   "outputs": [
    {
     "data": {
      "text/plain": [
       "array([[95., 82.],\n",
       "       [26., 64.],\n",
       "       [56., 84.],\n",
       "       [45., 50.],\n",
       "       [ 4., 26.],\n",
       "       [94., 48.],\n",
       "       [66., 53.],\n",
       "       [34., 59.],\n",
       "       [28., 29.],\n",
       "       [55., 67.]])"
      ]
     },
     "execution_count": 7,
     "metadata": {},
     "output_type": "execute_result"
    }
   ],
   "source": [
    "X[:10,:]"
   ]
  },
  {
   "cell_type": "code",
   "execution_count": 10,
   "metadata": {},
   "outputs": [],
   "source": [
    "X[:,0] = (X[:,0] - np.min(X[:,0])) / (np.max(X[:,0]) - np.min(X[:,0]))  # 第一维\n",
    "X[:,1] = (X[:,1] - np.min(X[:,1])) / (np.max(X[:,1]) - np.min(X[:,1]))   #第二维"
   ]
  },
  {
   "cell_type": "code",
   "execution_count": 11,
   "metadata": {},
   "outputs": [
    {
     "data": {
      "text/plain": [
       "array([[0.95789474, 0.82653061],\n",
       "       [0.23157895, 0.64285714],\n",
       "       [0.54736842, 0.84693878],\n",
       "       [0.43157895, 0.5       ],\n",
       "       [0.        , 0.25510204],\n",
       "       [0.94736842, 0.47959184],\n",
       "       [0.65263158, 0.53061224],\n",
       "       [0.31578947, 0.59183673],\n",
       "       [0.25263158, 0.28571429],\n",
       "       [0.53684211, 0.67346939]])"
      ]
     },
     "execution_count": 11,
     "metadata": {},
     "output_type": "execute_result"
    }
   ],
   "source": [
    "X[:10,:]"
   ]
  },
  {
   "cell_type": "markdown",
   "metadata": {},
   "source": [
    "### 画点图"
   ]
  },
  {
   "cell_type": "code",
   "execution_count": 12,
   "metadata": {},
   "outputs": [
    {
     "data": {
      "image/png": "[encoded data removed]",
      "text/plain": [
       "<Figure size 432x288 with 1 Axes>"
      ]
     },
     "metadata": {
      "needs_background": "light"
     },
     "output_type": "display_data"
    }
   ],
   "source": [
    "plt.scatter(X[:,0],X[:,1])\n",
    "plt.show()"
   ]
  },
  {
   "cell_type": "code",
   "execution_count": 13,
   "metadata": {},
   "outputs": [
    {
     "data": {
      "text/plain": [
       "0.5614736842105263"
      ]
     },
     "execution_count": 13,
     "metadata": {},
     "output_type": "execute_result"
    }
   ],
   "source": [
    "np.mean(X[:,0])  # 平均值"
   ]
  },
  {
   "cell_type": "code",
   "execution_count": 14,
   "metadata": {},
   "outputs": [
    {
     "data": {
      "text/plain": [
       "0.3056593436311582"
      ]
     },
     "execution_count": 14,
     "metadata": {},
     "output_type": "execute_result"
    }
   ],
   "source": [
    "np.std(X[:,0]) # 标准差"
   ]
  },
  {
   "cell_type": "code",
   "execution_count": 15,
   "metadata": {},
   "outputs": [
    {
     "data": {
      "text/plain": [
       "0.48918367346938774"
      ]
     },
     "execution_count": 15,
     "metadata": {},
     "output_type": "execute_result"
    }
   ],
   "source": [
    "np.mean(X[:,1])  # 平均值"
   ]
  },
  {
   "cell_type": "code",
   "execution_count": 16,
   "metadata": {},
   "outputs": [
    {
     "data": {
      "text/plain": [
       "0.28361774522423805"
      ]
     },
     "execution_count": 16,
     "metadata": {},
     "output_type": "execute_result"
    }
   ],
   "source": [
    "np.std(X[:,1]) # 标准差"
   ]
  },
  {
   "cell_type": "markdown",
   "metadata": {},
   "source": [
    "### 均值方差归一化 Standardization"
   ]
  },
  {
   "cell_type": "code",
   "execution_count": 17,
   "metadata": {},
   "outputs": [],
   "source": [
    "X2 = np.random.randint(0, 100, (50, 2))"
   ]
  },
  {
   "cell_type": "code",
   "execution_count": 18,
   "metadata": {},
   "outputs": [],
   "source": [
    "X2 = np.array(X2, dtype=float)"
   ]
  },
  {
   "cell_type": "code",
   "execution_count": 19,
   "metadata": {},
   "outputs": [
    {
     "data": {
      "text/plain": [
       "array([[51., 14.],\n",
       "       [13.,  2.],\n",
       "       [ 6., 50.],\n",
       "       [37., 67.],\n",
       "       [37., 68.],\n",
       "       [12., 48.],\n",
       "       [29., 63.],\n",
       "       [ 6., 85.],\n",
       "       [38., 11.],\n",
       "       [51., 77.]])"
      ]
     },
     "execution_count": 19,
     "metadata": {},
     "output_type": "execute_result"
    }
   ],
   "source": [
    "X2[:10,:]"
   ]
  },
  {
   "cell_type": "code",
   "execution_count": 21,
   "metadata": {},
   "outputs": [],
   "source": [
    "X2[:,0] = (X2[:,0] - np.mean(X2[:,0])) / np.std(X2[:,0])  #均值方差归一化\n",
    "X2[:,1] = (X2[:,1] - np.mean(X2[:,1])) / np.std(X2[:,1])"
   ]
  },
  {
   "cell_type": "code",
   "execution_count": 22,
   "metadata": {},
   "outputs": [
    {
     "data": {
      "image/png": "[encoded data removed]",
      "text/plain": [
       "<Figure size 432x288 with 1 Axes>"
      ]
     },
     "metadata": {
      "needs_background": "light"
     },
     "output_type": "display_data"
    }
   ],
   "source": [
    "plt.scatter(X2[:,0], X2[:,1])\n",
    "plt.show()"
   ]
  },
  {
   "cell_type": "code",
   "execution_count": 23,
   "metadata": {},
   "outputs": [
    {
     "data": {
      "text/plain": [
       "-8.881784197001253e-18"
      ]
     },
     "execution_count": 23,
     "metadata": {},
     "output_type": "execute_result"
    }
   ],
   "source": [
    "np.mean(X2[:,0])  # 平均值接近0"
   ]
  },
  {
   "cell_type": "code",
   "execution_count": 24,
   "metadata": {},
   "outputs": [
    {
     "data": {
      "text/plain": [
       "1.0"
      ]
     },
     "execution_count": 24,
     "metadata": {},
     "output_type": "execute_result"
    }
   ],
   "source": [
    "np.std(X2[:,0]) # 标准差,接近1"
   ]
  },
  {
   "cell_type": "code",
   "execution_count": 25,
   "metadata": {},
   "outputs": [
    {
     "data": {
      "text/plain": [
       "-1.3322676295501878e-17"
      ]
     },
     "execution_count": 25,
     "metadata": {},
     "output_type": "execute_result"
    }
   ],
   "source": [
    "np.mean(X2[:,1]) # 平均值接近0"
   ]
  },
  {
   "cell_type": "code",
   "execution_count": 26,
   "metadata": {},
   "outputs": [
    {
     "data": {
      "text/plain": [
       "1.0"
      ]
     },
     "execution_count": 26,
     "metadata": {},
     "output_type": "execute_result"
    }
   ],
   "source": [
    "np.std(X2[:,1]) # 标准差,接近1"
   ]
  }
 ],
 "metadata": {
  "kernelspec": {
   "display_name": "Python 3",
   "language": "python",
   "name": "python3"
  },
  "language_info": {
   "codemirror_mode": {
    "name": "ipython",
    "version": 3
   },
   "file_extension": ".py",
   "mimetype": "text/x-python",
   "name": "python",
   "nbconvert_exporter": "python",
   "pygments_lexer": "ipython3",
   "version": "3.7.0"
  }
 },
 "nbformat": 4,
 "nbformat_minor": 2
}
